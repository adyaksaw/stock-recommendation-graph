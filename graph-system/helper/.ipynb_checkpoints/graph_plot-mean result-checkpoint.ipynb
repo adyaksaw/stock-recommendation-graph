{
 "cells": [
  {
   "cell_type": "code",
   "execution_count": 9,
   "metadata": {
    "ExecuteTime": {
     "end_time": "2021-09-17T13:16:44.622256Z",
     "start_time": "2021-09-17T13:16:44.616254Z"
    }
   },
   "outputs": [],
   "source": [
    "import matplotlib.pyplot as plt\n",
    "import matplotlib.ticker as mtick\n",
    "from  matplotlib.ticker import PercentFormatter\n",
    "import numpy as np\n",
    "import pandas as pd\n",
    "import csv\n",
    "from tqdm import tqdm\n",
    "from datetime import datetime\n",
    "import os\n",
    "import pickle\n",
    "import seaborn"
   ]
  },
  {
   "cell_type": "code",
   "execution_count": 10,
   "metadata": {
    "ExecuteTime": {
     "end_time": "2021-09-17T13:16:44.638254Z",
     "start_time": "2021-09-17T13:16:44.626256Z"
    }
   },
   "outputs": [],
   "source": [
    "%matplotlib inline\n",
    "seaborn.set(rc={'figure.figsize':(15,8)})\n",
    "seaborn.set(font_scale=1.2)"
   ]
  },
  {
   "cell_type": "code",
   "execution_count": 11,
   "metadata": {
    "ExecuteTime": {
     "end_time": "2021-09-17T13:16:44.654260Z",
     "start_time": "2021-09-17T13:16:44.642254Z"
    }
   },
   "outputs": [],
   "source": [
    "TIME_START = \"20170101\"\n",
    "TIME_END = \"20201231\""
   ]
  },
  {
   "cell_type": "code",
   "execution_count": 12,
   "metadata": {
    "ExecuteTime": {
     "end_time": "2021-09-17T13:16:44.718252Z",
     "start_time": "2021-09-17T13:16:44.658254Z"
    }
   },
   "outputs": [],
   "source": [
    "def convert_timestamp(string_time):\n",
    "    temp_time = string_time.split()\n",
    "    if temp_time[1] == 'mei':\n",
    "        temp_time[1] = 'may'\n",
    "    elif temp_time[1] == 'ags':\n",
    "        temp_time[1] = 'aug'\n",
    "    elif temp_time[1] == 'okt':\n",
    "        temp_time[1] = 'oct'\n",
    "    elif temp_time[1] == 'des':\n",
    "        temp_time[1] = 'dec'\n",
    "    fixed_string_time = \" \".join(temp_time)\n",
    "    datetime_obj = datetime.strptime(\n",
    "        fixed_string_time, \"%d %b %Y\"\n",
    "    )\n",
    "    return datetime_obj.strftime('%Y%m%d')\n",
    "\n",
    "stock_time_data = dict()\n",
    "with open('../data/listing_date.csv', 'r') as file:\n",
    "    reader = csv.reader(file, delimiter='|')\n",
    "    for row in reader:\n",
    "        row[2] = convert_timestamp(row[2])\n",
    "        stock_time_data[row[0]] = row[2]"
   ]
  },
  {
   "cell_type": "code",
   "execution_count": 13,
   "metadata": {
    "ExecuteTime": {
     "end_time": "2021-09-17T13:16:48.054255Z",
     "start_time": "2021-09-17T13:16:44.721255Z"
    }
   },
   "outputs": [],
   "source": [
    "dump_file = open(\"../data/stock_price.obj\", \"rb\")\n",
    "price_list = pickle.load(dump_file)\n",
    "price_list = {idx: gp.xs(idx, level=0, axis=1).dropna()\n",
    "              for idx, gp in price_list.groupby(level=0, axis=1)}"
   ]
  },
  {
   "cell_type": "code",
   "execution_count": 14,
   "metadata": {
    "ExecuteTime": {
     "end_time": "2021-09-17T13:16:48.086263Z",
     "start_time": "2021-09-17T13:16:48.057260Z"
    }
   },
   "outputs": [],
   "source": [
    "def get_output(foldername):\n",
    "    invalid = []\n",
    "\n",
    "    df_overall = [None for i in range(5)]\n",
    "    for filename in tqdm(os.listdir(f'../{foldername}/')):\n",
    "        if filename.endswith('.csv'):\n",
    "            df = pd.read_csv(os.path.join(f'../{foldername}/', filename), index_col=0)\n",
    "            if(df.loc[1, 'max'] == 0 or df.loc[1].isnull().values.any()):\n",
    "                invalid.append(filename.split('.')[0])\n",
    "                continue\n",
    "            for index, row in df.iterrows():\n",
    "                if(df.loc[index, 'max'] != 0 and not df.loc[index].isnull().values.any()):\n",
    "                    if type(df_overall[index]) == type(None):\n",
    "                        df_overall[index] = df.loc[index]\n",
    "                    else:\n",
    "                        df_overall[index] = pd.concat([df_overall[index], df.loc[index]])\n",
    "\n",
    "    for idx, df in enumerate(df_overall):\n",
    "        if type(df) != type(None):\n",
    "            max_df = df[['max']].reset_index(drop=True)\n",
    "            min_df = df[['min']].reset_index(drop=True)\n",
    "            avg_df = df[['avg']].reset_index(drop=True)\n",
    "            median_df = df[['median']].reset_index(drop=True)\n",
    "            count_df = df[['count']].reset_index(drop=True)\n",
    "            df_overall[idx] = pd.concat([\n",
    "                max_df,\n",
    "                min_df,\n",
    "                avg_df,\n",
    "                median_df,\n",
    "                count_df\n",
    "            ], ignore_index=True, axis=1).rename(columns={0: 'max', 1: 'min', 2: 'avg', 3: 'median', 4: 'count'})\n",
    "    \n",
    "    return df_overall, invalid\n",
    "\n",
    "def get_differences(df):\n",
    "    mean_data = [df[i][['avg']] for i in range(4)]\n",
    "    temp = [[], []]\n",
    "    for i in range(len(mean_data[0])):\n",
    "        for j in range(2):\n",
    "            temp[j].append(mean_data[j+1].loc[i, 'avg'] - mean_data[j].loc[i, 'avg'])\n",
    "    return mean_data, temp"
   ]
  },
  {
   "cell_type": "code",
   "execution_count": 15,
   "metadata": {
    "ExecuteTime": {
     "end_time": "2021-09-17T13:16:48.102256Z",
     "start_time": "2021-09-17T13:16:48.091256Z"
    }
   },
   "outputs": [],
   "source": [
    "def check_invalid(invalid):\n",
    "    if(len(invalid) == 0):\n",
    "        print(\"No invalid data\")\n",
    "    else:\n",
    "        print(sorted(\n",
    "        [(i, stock_time_data[i], len(price_list[f'{i}.JK'][TIME_START:TIME_END].Close)) for i in invalid],\n",
    "        key=lambda k: k[1]\n",
    "        ))"
   ]
  },
  {
   "cell_type": "markdown",
   "metadata": {},
   "source": [
    "# Graph-Subset"
   ]
  },
  {
   "cell_type": "code",
   "execution_count": 16,
   "metadata": {
    "ExecuteTime": {
     "end_time": "2021-09-17T13:17:53.530430Z",
     "start_time": "2021-09-17T13:16:48.109256Z"
    },
    "scrolled": true
   },
   "outputs": [
    {
     "name": "stderr",
     "output_type": "stream",
     "text": [
      "100%|████████████████████████████████████████████████████████████████████████████████████████████████| 703/703 [01:03<00:00, 11.05it/s]\n"
     ]
    },
    {
     "name": "stdout",
     "output_type": "stream",
     "text": [
      "[('BCIC', '19970625', 4)]\n"
     ]
    },
    {
     "ename": "FileNotFoundError",
     "evalue": "[Errno 2] No such file or directory: '../img/mean/stock-result/subset_val-scatter.png'",
     "output_type": "error",
     "traceback": [
      "\u001b[1;31m---------------------------------------------------------------------------\u001b[0m",
      "\u001b[1;31mFileNotFoundError\u001b[0m                         Traceback (most recent call last)",
      "\u001b[1;32m<ipython-input-16-341512d02fc5>\u001b[0m in \u001b[0;36m<module>\u001b[1;34m\u001b[0m\n\u001b[0;32m     11\u001b[0m     \u001b[0mplt\u001b[0m\u001b[1;33m.\u001b[0m\u001b[0mylabel\u001b[0m\u001b[1;33m(\u001b[0m\u001b[1;34m'Jumlah Sampel'\u001b[0m\u001b[1;33m)\u001b[0m\u001b[1;33m\u001b[0m\u001b[1;33m\u001b[0m\u001b[0m\n\u001b[0;32m     12\u001b[0m     \u001b[0mplt\u001b[0m\u001b[1;33m.\u001b[0m\u001b[0msuptitle\u001b[0m\u001b[1;33m(\u001b[0m\u001b[1;34m'Persebaran Hasil Berdasarkan Jarak pada Eksperimen Graph-Subset'\u001b[0m\u001b[1;33m)\u001b[0m\u001b[1;33m\u001b[0m\u001b[1;33m\u001b[0m\u001b[0m\n\u001b[1;32m---> 13\u001b[1;33m     \u001b[0mplt\u001b[0m\u001b[1;33m.\u001b[0m\u001b[0msavefig\u001b[0m\u001b[1;33m(\u001b[0m\u001b[1;34m'../img/mean/stock-result/subset_val-scatter.png'\u001b[0m\u001b[1;33m,\u001b[0m \u001b[0mbbox_inches\u001b[0m\u001b[1;33m=\u001b[0m\u001b[1;34m'tight'\u001b[0m\u001b[1;33m)\u001b[0m\u001b[1;33m\u001b[0m\u001b[1;33m\u001b[0m\u001b[0m\n\u001b[0m",
      "\u001b[1;32m~\\Anaconda3\\lib\\site-packages\\matplotlib\\pyplot.py\u001b[0m in \u001b[0;36msavefig\u001b[1;34m(*args, **kwargs)\u001b[0m\n\u001b[0;32m    964\u001b[0m \u001b[1;32mdef\u001b[0m \u001b[0msavefig\u001b[0m\u001b[1;33m(\u001b[0m\u001b[1;33m*\u001b[0m\u001b[0margs\u001b[0m\u001b[1;33m,\u001b[0m \u001b[1;33m**\u001b[0m\u001b[0mkwargs\u001b[0m\u001b[1;33m)\u001b[0m\u001b[1;33m:\u001b[0m\u001b[1;33m\u001b[0m\u001b[1;33m\u001b[0m\u001b[0m\n\u001b[0;32m    965\u001b[0m     \u001b[0mfig\u001b[0m \u001b[1;33m=\u001b[0m \u001b[0mgcf\u001b[0m\u001b[1;33m(\u001b[0m\u001b[1;33m)\u001b[0m\u001b[1;33m\u001b[0m\u001b[1;33m\u001b[0m\u001b[0m\n\u001b[1;32m--> 966\u001b[1;33m     \u001b[0mres\u001b[0m \u001b[1;33m=\u001b[0m \u001b[0mfig\u001b[0m\u001b[1;33m.\u001b[0m\u001b[0msavefig\u001b[0m\u001b[1;33m(\u001b[0m\u001b[1;33m*\u001b[0m\u001b[0margs\u001b[0m\u001b[1;33m,\u001b[0m \u001b[1;33m**\u001b[0m\u001b[0mkwargs\u001b[0m\u001b[1;33m)\u001b[0m\u001b[1;33m\u001b[0m\u001b[1;33m\u001b[0m\u001b[0m\n\u001b[0m\u001b[0;32m    967\u001b[0m     \u001b[0mfig\u001b[0m\u001b[1;33m.\u001b[0m\u001b[0mcanvas\u001b[0m\u001b[1;33m.\u001b[0m\u001b[0mdraw_idle\u001b[0m\u001b[1;33m(\u001b[0m\u001b[1;33m)\u001b[0m   \u001b[1;31m# need this if 'transparent=True' to reset colors\u001b[0m\u001b[1;33m\u001b[0m\u001b[1;33m\u001b[0m\u001b[0m\n\u001b[0;32m    968\u001b[0m     \u001b[1;32mreturn\u001b[0m \u001b[0mres\u001b[0m\u001b[1;33m\u001b[0m\u001b[1;33m\u001b[0m\u001b[0m\n",
      "\u001b[1;32m~\\Anaconda3\\lib\\site-packages\\matplotlib\\figure.py\u001b[0m in \u001b[0;36msavefig\u001b[1;34m(self, fname, transparent, **kwargs)\u001b[0m\n\u001b[0;32m   3003\u001b[0m                 \u001b[0mpatch\u001b[0m\u001b[1;33m.\u001b[0m\u001b[0mset_edgecolor\u001b[0m\u001b[1;33m(\u001b[0m\u001b[1;34m'none'\u001b[0m\u001b[1;33m)\u001b[0m\u001b[1;33m\u001b[0m\u001b[1;33m\u001b[0m\u001b[0m\n\u001b[0;32m   3004\u001b[0m \u001b[1;33m\u001b[0m\u001b[0m\n\u001b[1;32m-> 3005\u001b[1;33m         \u001b[0mself\u001b[0m\u001b[1;33m.\u001b[0m\u001b[0mcanvas\u001b[0m\u001b[1;33m.\u001b[0m\u001b[0mprint_figure\u001b[0m\u001b[1;33m(\u001b[0m\u001b[0mfname\u001b[0m\u001b[1;33m,\u001b[0m \u001b[1;33m**\u001b[0m\u001b[0mkwargs\u001b[0m\u001b[1;33m)\u001b[0m\u001b[1;33m\u001b[0m\u001b[1;33m\u001b[0m\u001b[0m\n\u001b[0m\u001b[0;32m   3006\u001b[0m \u001b[1;33m\u001b[0m\u001b[0m\n\u001b[0;32m   3007\u001b[0m         \u001b[1;32mif\u001b[0m \u001b[0mtransparent\u001b[0m\u001b[1;33m:\u001b[0m\u001b[1;33m\u001b[0m\u001b[1;33m\u001b[0m\u001b[0m\n",
      "\u001b[1;32m~\\Anaconda3\\lib\\site-packages\\matplotlib\\backend_bases.py\u001b[0m in \u001b[0;36mprint_figure\u001b[1;34m(self, filename, dpi, facecolor, edgecolor, orientation, format, bbox_inches, pad_inches, bbox_extra_artists, backend, **kwargs)\u001b[0m\n\u001b[0;32m   2253\u001b[0m                 \u001b[1;31m# force the figure dpi to 72), so we need to set it again here.\u001b[0m\u001b[1;33m\u001b[0m\u001b[1;33m\u001b[0m\u001b[1;33m\u001b[0m\u001b[0m\n\u001b[0;32m   2254\u001b[0m                 \u001b[1;32mwith\u001b[0m \u001b[0mcbook\u001b[0m\u001b[1;33m.\u001b[0m\u001b[0m_setattr_cm\u001b[0m\u001b[1;33m(\u001b[0m\u001b[0mself\u001b[0m\u001b[1;33m.\u001b[0m\u001b[0mfigure\u001b[0m\u001b[1;33m,\u001b[0m \u001b[0mdpi\u001b[0m\u001b[1;33m=\u001b[0m\u001b[0mdpi\u001b[0m\u001b[1;33m)\u001b[0m\u001b[1;33m:\u001b[0m\u001b[1;33m\u001b[0m\u001b[1;33m\u001b[0m\u001b[0m\n\u001b[1;32m-> 2255\u001b[1;33m                     result = print_method(\n\u001b[0m\u001b[0;32m   2256\u001b[0m                         \u001b[0mfilename\u001b[0m\u001b[1;33m,\u001b[0m\u001b[1;33m\u001b[0m\u001b[1;33m\u001b[0m\u001b[0m\n\u001b[0;32m   2257\u001b[0m                         \u001b[0mfacecolor\u001b[0m\u001b[1;33m=\u001b[0m\u001b[0mfacecolor\u001b[0m\u001b[1;33m,\u001b[0m\u001b[1;33m\u001b[0m\u001b[1;33m\u001b[0m\u001b[0m\n",
      "\u001b[1;32m~\\Anaconda3\\lib\\site-packages\\matplotlib\\backend_bases.py\u001b[0m in \u001b[0;36mwrapper\u001b[1;34m(*args, **kwargs)\u001b[0m\n\u001b[0;32m   1667\u001b[0m             \u001b[0mkwargs\u001b[0m\u001b[1;33m.\u001b[0m\u001b[0mpop\u001b[0m\u001b[1;33m(\u001b[0m\u001b[0marg\u001b[0m\u001b[1;33m)\u001b[0m\u001b[1;33m\u001b[0m\u001b[1;33m\u001b[0m\u001b[0m\n\u001b[0;32m   1668\u001b[0m \u001b[1;33m\u001b[0m\u001b[0m\n\u001b[1;32m-> 1669\u001b[1;33m         \u001b[1;32mreturn\u001b[0m \u001b[0mfunc\u001b[0m\u001b[1;33m(\u001b[0m\u001b[1;33m*\u001b[0m\u001b[0margs\u001b[0m\u001b[1;33m,\u001b[0m \u001b[1;33m**\u001b[0m\u001b[0mkwargs\u001b[0m\u001b[1;33m)\u001b[0m\u001b[1;33m\u001b[0m\u001b[1;33m\u001b[0m\u001b[0m\n\u001b[0m\u001b[0;32m   1670\u001b[0m \u001b[1;33m\u001b[0m\u001b[0m\n\u001b[0;32m   1671\u001b[0m     \u001b[1;32mreturn\u001b[0m \u001b[0mwrapper\u001b[0m\u001b[1;33m\u001b[0m\u001b[1;33m\u001b[0m\u001b[0m\n",
      "\u001b[1;32m~\\Anaconda3\\lib\\site-packages\\matplotlib\\backends\\backend_agg.py\u001b[0m in \u001b[0;36mprint_png\u001b[1;34m(self, filename_or_obj, metadata, pil_kwargs, *args)\u001b[0m\n\u001b[0;32m    507\u001b[0m         \"\"\"\n\u001b[0;32m    508\u001b[0m         \u001b[0mFigureCanvasAgg\u001b[0m\u001b[1;33m.\u001b[0m\u001b[0mdraw\u001b[0m\u001b[1;33m(\u001b[0m\u001b[0mself\u001b[0m\u001b[1;33m)\u001b[0m\u001b[1;33m\u001b[0m\u001b[1;33m\u001b[0m\u001b[0m\n\u001b[1;32m--> 509\u001b[1;33m         mpl.image.imsave(\n\u001b[0m\u001b[0;32m    510\u001b[0m             \u001b[0mfilename_or_obj\u001b[0m\u001b[1;33m,\u001b[0m \u001b[0mself\u001b[0m\u001b[1;33m.\u001b[0m\u001b[0mbuffer_rgba\u001b[0m\u001b[1;33m(\u001b[0m\u001b[1;33m)\u001b[0m\u001b[1;33m,\u001b[0m \u001b[0mformat\u001b[0m\u001b[1;33m=\u001b[0m\u001b[1;34m\"png\"\u001b[0m\u001b[1;33m,\u001b[0m \u001b[0morigin\u001b[0m\u001b[1;33m=\u001b[0m\u001b[1;34m\"upper\"\u001b[0m\u001b[1;33m,\u001b[0m\u001b[1;33m\u001b[0m\u001b[1;33m\u001b[0m\u001b[0m\n\u001b[0;32m    511\u001b[0m             dpi=self.figure.dpi, metadata=metadata, pil_kwargs=pil_kwargs)\n",
      "\u001b[1;32m~\\Anaconda3\\lib\\site-packages\\matplotlib\\image.py\u001b[0m in \u001b[0;36mimsave\u001b[1;34m(fname, arr, vmin, vmax, cmap, format, origin, dpi, metadata, pil_kwargs)\u001b[0m\n\u001b[0;32m   1614\u001b[0m         \u001b[0mpil_kwargs\u001b[0m\u001b[1;33m.\u001b[0m\u001b[0msetdefault\u001b[0m\u001b[1;33m(\u001b[0m\u001b[1;34m\"format\"\u001b[0m\u001b[1;33m,\u001b[0m \u001b[0mformat\u001b[0m\u001b[1;33m)\u001b[0m\u001b[1;33m\u001b[0m\u001b[1;33m\u001b[0m\u001b[0m\n\u001b[0;32m   1615\u001b[0m         \u001b[0mpil_kwargs\u001b[0m\u001b[1;33m.\u001b[0m\u001b[0msetdefault\u001b[0m\u001b[1;33m(\u001b[0m\u001b[1;34m\"dpi\"\u001b[0m\u001b[1;33m,\u001b[0m \u001b[1;33m(\u001b[0m\u001b[0mdpi\u001b[0m\u001b[1;33m,\u001b[0m \u001b[0mdpi\u001b[0m\u001b[1;33m)\u001b[0m\u001b[1;33m)\u001b[0m\u001b[1;33m\u001b[0m\u001b[1;33m\u001b[0m\u001b[0m\n\u001b[1;32m-> 1616\u001b[1;33m         \u001b[0mimage\u001b[0m\u001b[1;33m.\u001b[0m\u001b[0msave\u001b[0m\u001b[1;33m(\u001b[0m\u001b[0mfname\u001b[0m\u001b[1;33m,\u001b[0m \u001b[1;33m**\u001b[0m\u001b[0mpil_kwargs\u001b[0m\u001b[1;33m)\u001b[0m\u001b[1;33m\u001b[0m\u001b[1;33m\u001b[0m\u001b[0m\n\u001b[0m\u001b[0;32m   1617\u001b[0m \u001b[1;33m\u001b[0m\u001b[0m\n\u001b[0;32m   1618\u001b[0m \u001b[1;33m\u001b[0m\u001b[0m\n",
      "\u001b[1;32m~\\Anaconda3\\lib\\site-packages\\PIL\\Image.py\u001b[0m in \u001b[0;36msave\u001b[1;34m(self, fp, format, **params)\u001b[0m\n\u001b[0;32m   2230\u001b[0m                 \u001b[0mfp\u001b[0m \u001b[1;33m=\u001b[0m \u001b[0mbuiltins\u001b[0m\u001b[1;33m.\u001b[0m\u001b[0mopen\u001b[0m\u001b[1;33m(\u001b[0m\u001b[0mfilename\u001b[0m\u001b[1;33m,\u001b[0m \u001b[1;34m\"r+b\"\u001b[0m\u001b[1;33m)\u001b[0m\u001b[1;33m\u001b[0m\u001b[1;33m\u001b[0m\u001b[0m\n\u001b[0;32m   2231\u001b[0m             \u001b[1;32melse\u001b[0m\u001b[1;33m:\u001b[0m\u001b[1;33m\u001b[0m\u001b[1;33m\u001b[0m\u001b[0m\n\u001b[1;32m-> 2232\u001b[1;33m                 \u001b[0mfp\u001b[0m \u001b[1;33m=\u001b[0m \u001b[0mbuiltins\u001b[0m\u001b[1;33m.\u001b[0m\u001b[0mopen\u001b[0m\u001b[1;33m(\u001b[0m\u001b[0mfilename\u001b[0m\u001b[1;33m,\u001b[0m \u001b[1;34m\"w+b\"\u001b[0m\u001b[1;33m)\u001b[0m\u001b[1;33m\u001b[0m\u001b[1;33m\u001b[0m\u001b[0m\n\u001b[0m\u001b[0;32m   2233\u001b[0m \u001b[1;33m\u001b[0m\u001b[0m\n\u001b[0;32m   2234\u001b[0m         \u001b[1;32mtry\u001b[0m\u001b[1;33m:\u001b[0m\u001b[1;33m\u001b[0m\u001b[1;33m\u001b[0m\u001b[0m\n",
      "\u001b[1;31mFileNotFoundError\u001b[0m: [Errno 2] No such file or directory: '../img/mean/stock-result/subset_val-scatter.png'"
     ]
    },
    {
     "data": {
      "image/png": "[encoded data removed]",
      "text/plain": [
       "<Figure size 1080x576 with 1 Axes>"
      ]
     },
     "metadata": {},
     "output_type": "display_data"
    }
   ],
   "source": [
    "foldername = 'output/output_subset_val/stock_return'\n",
    "df_output_subset_val, invalid = get_output(foldername)\n",
    "check_invalid(invalid)\n",
    "for i in range(4):\n",
    "    plt.scatter(x = df_output_subset_val[i][['avg']],\n",
    "                y = df_output_subset_val[i][['count']],\n",
    "                label=f\"Jarak {i*2+2}\"\n",
    "               )\n",
    "    plt.legend()\n",
    "    plt.xlabel('Mean')\n",
    "    plt.ylabel('Jumlah Sampel')\n",
    "    plt.suptitle('Persebaran Hasil Berdasarkan Jarak pada Eksperimen Graph-Subset')\n",
    "    plt.savefig('../img/stock-result/subset_val-scatter.png', bbox_inches='tight')"
   ]
  },
  {
   "cell_type": "markdown",
   "metadata": {},
   "source": [
    "# Naive-All"
   ]
  },
  {
   "cell_type": "code",
   "execution_count": null,
   "metadata": {
    "ExecuteTime": {
     "end_time": "2021-09-17T13:17:53.547433Z",
     "start_time": "2021-09-17T13:16:44.637Z"
    }
   },
   "outputs": [],
   "source": [
    "df_output_all_naive = pd.read_csv('../output/output_all_naive/overall_mean_return.csv', index_col=0)\n",
    "seaborn.displot(\n",
    "    data=df_output_all_naive[['avg']]\n",
    ").set(\n",
    "    title='Frekuensi Nilai Mean pada Eksperimen Naive-All',\n",
    "    ylabel=\"Jumlah Sampel\"\n",
    ").savefig('../img/mean/stock-result/all_naive-dist.png', bbox_inches='tight')"
   ]
  },
  {
   "cell_type": "code",
   "execution_count": null,
   "metadata": {
    "ExecuteTime": {
     "end_time": "2021-09-17T13:17:53.552432Z",
     "start_time": "2021-09-17T13:16:44.641Z"
    }
   },
   "outputs": [],
   "source": [
    "df_output_all_naive[['avg']].mean()"
   ]
  },
  {
   "cell_type": "code",
   "execution_count": null,
   "metadata": {
    "ExecuteTime": {
     "end_time": "2021-09-17T13:17:53.559436Z",
     "start_time": "2021-09-17T13:16:44.645Z"
    }
   },
   "outputs": [],
   "source": [
    "all_naive_lineplot = seaborn.lineplot(\n",
    "    data = df_output_all_naive[['avg']].reset_index().rename(\n",
    "        columns={\"index\": 'count'}\n",
    "    ),\n",
    "    x = 'count',\n",
    "    y = 'avg'\n",
    ").set(\n",
    "    title='Diagram Garis Eksperimen Naive-All',\n",
    "    xlabel='Jumlah Sampel',\n",
    "    ylabel='Mean'\n",
    ")\n",
    "\n",
    "plt.savefig('../img/mean/stock-result/all_naive-line.png', bbox_inches='tight')"
   ]
  },
  {
   "cell_type": "markdown",
   "metadata": {},
   "source": [
    "# Naive-Subset"
   ]
  },
  {
   "cell_type": "code",
   "execution_count": null,
   "metadata": {
    "ExecuteTime": {
     "end_time": "2021-09-17T13:17:53.566430Z",
     "start_time": "2021-09-17T13:16:44.650Z"
    }
   },
   "outputs": [],
   "source": [
    "df_output_subset_naive = pd.read_csv('../output/output_subset_naive/overall_mean_return.csv', index_col=0)\n",
    "seaborn.lineplot(\n",
    "    data=df_output_subset_naive[['avg']]\n",
    "    .reset_index()\n",
    "    .rename(\n",
    "        columns={\"index\": 'count'}\n",
    "    ),\n",
    "    x = 'avg',\n",
    "    y = 'count'\n",
    ").set(\n",
    "    xlabel='Mean',\n",
    "    ylabel=\"Jumlah Sampel\",\n",
    "    title='Diagram Garis Eksperimen Naive-Subset'\n",
    ")\n",
    "\n",
    "plt.savefig('../img/mean/stock-result/subset_naive-line.png', bbox_inches='tight')"
   ]
  },
  {
   "cell_type": "code",
   "execution_count": null,
   "metadata": {
    "ExecuteTime": {
     "end_time": "2021-09-17T13:17:53.572431Z",
     "start_time": "2021-09-17T13:16:44.654Z"
    }
   },
   "outputs": [],
   "source": [
    "def generate_merged_plot_1(ax=None):\n",
    "    merged_df = pd.concat([df_output_subset_val[0], df_output_subset_val[1], df_output_subset_val[2], df_output_subset_val[3]])\n",
    "    lineplot_params = {\n",
    "        'data': df_output_subset_naive[['avg']].reset_index().rename(columns={\"index\": 'count'}),\n",
    "        'x': 'avg',\n",
    "        'y': 'count',\n",
    "        'label': 'Naive Subset'\n",
    "    }   \n",
    "    scatterplot_params = {\n",
    "        'data': merged_df,\n",
    "        'x': 'avg',\n",
    "        'y': 'count',\n",
    "        'alpha': 0.3,\n",
    "        'label': 'Graph Subset'\n",
    "    }\n",
    "    if(ax is not None):\n",
    "        lineplot_params['ax'] = ax\n",
    "        scatterplot_params['ax'] = ax\n",
    "    seaborn.lineplot(**lineplot_params)\n",
    "    seaborn.scatterplot(\n",
    "        **scatterplot_params\n",
    "    ).set(\n",
    "        xlabel='Mean',\n",
    "        ylabel='Jumlah Sampel',\n",
    "        title='Gabungan Diagram Garis Eksperimen Naive-Subset dan Diagram Persebaran Eksperimen Graph-Subset'\n",
    "    )\n",
    "\n",
    "generate_merged_plot_1()\n",
    "plt.savefig('../img/mean/stock-result/subset_naive-line-merged.png', bbox_inches='tight')"
   ]
  },
  {
   "cell_type": "code",
   "execution_count": null,
   "metadata": {
    "ExecuteTime": {
     "end_time": "2021-09-17T13:17:53.578431Z",
     "start_time": "2021-09-17T13:16:44.658Z"
    }
   },
   "outputs": [],
   "source": [
    "def generate_merged_plot_2(ax=None):\n",
    "    merged_df = pd.concat([df_output_subset_val[0], df_output_subset_val[1], df_output_subset_val[2], df_output_subset_val[3]])\n",
    "    merged_df = merged_df.groupby(by=['count']).mean()\n",
    "\n",
    "    lineplot_params_1 = {\n",
    "        'data': df_output_subset_naive[['avg']].reset_index().rename(columns={\"index\": 'count'}),\n",
    "        'x': 'avg',\n",
    "        'y': 'count',\n",
    "        'label': 'Naive Subset'\n",
    "    }\n",
    "    lineplot_params_2 = {\n",
    "        'data': merged_df,\n",
    "        'x': 'avg',\n",
    "        'y': 'count',\n",
    "        'alpha': 0.5,\n",
    "        'label': 'Graph Subset'\n",
    "    }\n",
    "    if(ax is not None):\n",
    "        lineplot_params_1['ax'] = ax\n",
    "        lineplot_params_2['ax'] = ax\n",
    "\n",
    "    seaborn.lineplot(**lineplot_params_1)\n",
    "\n",
    "    seaborn.lineplot(\n",
    "        **lineplot_params_2\n",
    "    ).set(\n",
    "        xlabel='Mean',\n",
    "        ylabel='Jumlah Sampel',\n",
    "        title='Gabungan Diagram Garis Eksperimen Naive-Subset dan Diagram Garis Eksperimen Graph-Subset'\n",
    "    )\n",
    "\n",
    "generate_merged_plot_2()"
   ]
  },
  {
   "cell_type": "code",
   "execution_count": null,
   "metadata": {
    "ExecuteTime": {
     "end_time": "2021-09-17T13:17:53.585432Z",
     "start_time": "2021-09-17T13:16:44.662Z"
    }
   },
   "outputs": [],
   "source": [
    "def generate_merged_plot_3(ax=None):\n",
    "    merged_df = pd.concat([df_output_subset_val[0], df_output_subset_val[1], df_output_subset_val[2], df_output_subset_val[3]])\n",
    "    merged_df = merged_df.groupby(by=['count']).mean().reset_index()\n",
    "\n",
    "    lineplot_params_1 = {\n",
    "        'data': df_output_subset_naive[['avg']].reset_index().rename(columns={\"index\": 'count'}),\n",
    "        'x': 'avg',\n",
    "        'y': 'count',\n",
    "        'label': 'Naive Subset'\n",
    "    }\n",
    "    lineplot_params_2 = {\n",
    "        'data': merged_df[merged_df['count'] <= 100],\n",
    "        'x': 'avg',\n",
    "        'y': 'count',\n",
    "        'label': 'Graph Subset'\n",
    "    }\n",
    "    if(ax is not None):\n",
    "        lineplot_params_1['ax'] = ax\n",
    "        lineplot_params_2['ax'] = ax\n",
    "\n",
    "    seaborn.lineplot(**lineplot_params_1)\n",
    "\n",
    "    seaborn.lineplot(\n",
    "        **lineplot_params_2\n",
    "    ).set(\n",
    "        xlabel='Mean',\n",
    "        ylabel='Jumlah Sampel',\n",
    "        title='Gabungan Diagram Garis Eksperimen Naive-Subset dan Diagram Garis Eksperimen Graph-Subset'\n",
    "    )\n",
    "\n",
    "generate_merged_plot_3()\n",
    "plt.savefig('../img/mean/stock-result/subset_naive-mean-line.png', bbox_inches='tight')"
   ]
  },
  {
   "cell_type": "code",
   "execution_count": null,
   "metadata": {
    "ExecuteTime": {
     "end_time": "2021-09-17T13:17:53.591432Z",
     "start_time": "2021-09-17T13:16:44.665Z"
    }
   },
   "outputs": [],
   "source": [
    "fig, axes = plt.subplots(2, 1, figsize=(12, 10))\n",
    "fig.suptitle('Gabungan Diagram Garis Eksperimen Naive-Subset dan Diagram Garis Eksperimen Graph-Subset')\n",
    "generate_merged_plot_1(axes[0])\n",
    "generate_merged_plot_3(axes[1])\n",
    "axes[0].title.set_text('Menggunakan Data Mentah Hasil Eksperimen')\n",
    "axes[1].title.set_text('Menghitung Nilai Mean untuk Setiap Jumlah Sampel')\n",
    "\n",
    "fig.tight_layout()\n",
    "plt.savefig('../img/mean/stock-result/subset_naive-mean-line.png', bbox_inches='tight')"
   ]
  },
  {
   "cell_type": "code",
   "execution_count": null,
   "metadata": {
    "ExecuteTime": {
     "end_time": "2021-09-17T13:17:53.597433Z",
     "start_time": "2021-09-17T13:16:44.668Z"
    }
   },
   "outputs": [],
   "source": [
    "def plot_difference_percentage():\n",
    "    merged_df = pd.concat([df_output_subset_val[0], df_output_subset_val[1], df_output_subset_val[2], df_output_subset_val[3]])\n",
    "    merged_df = merged_df.groupby(by=['count']).mean().reset_index()\n",
    "    divided_df = (merged_df[merged_df['count'] <= 100][['avg']] - df_output_subset_naive[['avg']]) / df_output_subset_naive[['avg']]\n",
    "    divided_df.index = divided_df.index + 1\n",
    "    divided_df = divided_df.reset_index().rename(\n",
    "            columns={\"avg\": \"Mean Difference\"}\n",
    "    )\n",
    "\n",
    "    ax = seaborn.boxplot(\n",
    "        data=divided_df[['Mean Difference']]\n",
    "    )\n",
    "\n",
    "    ax.set(\n",
    "        ylabel='Perubahan Mean',\n",
    "        title='Persebaran Perubahan Mean dari Eksperimen Naive-Subset ke Eksperimen Graph-Subset'\n",
    "    )\n",
    "\n",
    "    ax.yaxis.set_major_formatter(PercentFormatter(1))\n",
    "    print(divided_df[['Mean Difference']].mean())\n",
    "\n",
    "plot_difference_percentage()\n",
    "plt.savefig('../img/mean/stock-result/subset_naive-mean-percentdiff-line.png', bbox_inches='tight')"
   ]
  },
  {
   "cell_type": "markdown",
   "metadata": {},
   "source": [
    "# Graph-All"
   ]
  },
  {
   "cell_type": "code",
   "execution_count": null,
   "metadata": {
    "ExecuteTime": {
     "end_time": "2021-09-17T13:17:53.603448Z",
     "start_time": "2021-09-17T13:16:44.671Z"
    }
   },
   "outputs": [],
   "source": [
    "foldername = 'output/output_all_val/stock_return'\n",
    "df_output_all_val, invalid = get_output(foldername)\n",
    "check_invalid(invalid)\n",
    "for i in range(4):\n",
    "    print(len(df_output_all_val[i]))"
   ]
  },
  {
   "cell_type": "code",
   "execution_count": null,
   "metadata": {
    "ExecuteTime": {
     "end_time": "2021-09-17T13:17:53.609437Z",
     "start_time": "2021-09-17T13:16:44.674Z"
    }
   },
   "outputs": [],
   "source": [
    "for i in range(4):\n",
    "    plt.scatter(\n",
    "        x = df_output_all_val[i][['avg']],\n",
    "        y = df_output_all_val[i][['count']],\n",
    "        label=f\"Jarak {i*2+2}\"\n",
    "    )\n",
    "    plt.legend()\n",
    "    plt.xlabel('Mean')\n",
    "    plt.ylabel('Jumlah Sampel')\n",
    "    \n",
    "plt.suptitle('Persebaran Hasil pada Eksperimen Graph-All')\n",
    "plt.savefig('../img/mean/stock-result/all_val-scatter.png', bbox_inches='tight')"
   ]
  },
  {
   "cell_type": "code",
   "execution_count": null,
   "metadata": {
    "ExecuteTime": {
     "end_time": "2021-09-17T13:17:53.615435Z",
     "start_time": "2021-09-17T13:16:44.677Z"
    }
   },
   "outputs": [],
   "source": [
    "mean_data, differences_data = get_differences(df_output_all_val)\n",
    "print(mean_data[0].mean(), mean_data[1].mean(), mean_data[2].mean(), mean_data[3].mean())\n",
    "\n",
    "seaborn.boxplot(\n",
    "    data=mean_data\n",
    ").set(\n",
    "    xlabel='Jarak',\n",
    "    ylabel='Mean',\n",
    "    title='Rentang Nilai Mean Berdasarkan Jarak pada Eksperimen Graph-All',\n",
    ")\n",
    "plt.xticks([0, 1, 2, 3], [2, 4, 6, 8])\n",
    "plt.savefig('../img/mean/stock-result/all_val_mean-box.png', bbox_inches='tight')"
   ]
  },
  {
   "cell_type": "code",
   "execution_count": null,
   "metadata": {
    "ExecuteTime": {
     "end_time": "2021-09-17T13:17:53.620436Z",
     "start_time": "2021-09-17T13:16:44.679Z"
    }
   },
   "outputs": [],
   "source": [
    "fig, axes = plt.subplots(2, 2, sharex=True, sharey=True)\n",
    "fig.suptitle('Frekuensi Setiap Mean Berdasarkan Jarak pada Eksperimen Graph-All')\n",
    "for i in range(4):\n",
    "    seaborn.histplot(ax = axes[i//2, i%2], data=mean_data[i])\n",
    "    axes[i//2, i%2].set_title(f\"Jarak {i*2 + 2}\")\n",
    "    axes[i//2, i%2].set(xlabel=\"Mean\", ylabel=\"Jumlah\")\n",
    "plt.savefig('../img/mean/stock-result/all_val_mean-distribution.png', bbox_inches='tight')"
   ]
  },
  {
   "cell_type": "code",
   "execution_count": null,
   "metadata": {
    "ExecuteTime": {
     "end_time": "2021-09-17T13:17:53.625432Z",
     "start_time": "2021-09-17T13:16:44.683Z"
    }
   },
   "outputs": [],
   "source": [
    "seaborn.boxplot(\n",
    "    data=differences_data\n",
    ").set(\n",
    "    ylabel='Selisih Mean',\n",
    "    title='Persebaran Nilai Peningkatan Mean Untuk Setiap Instans Data'\n",
    ")\n",
    "plt.xticks([0, 1], ['Jarak 2 Ke Jarak 4', 'Jarak 4 Ke Jarak 6'])\n",
    "plt.savefig('../img/mean/stock-result/all_val_differences-box.png', bbox_inches='tight')"
   ]
  },
  {
   "cell_type": "code",
   "execution_count": null,
   "metadata": {
    "ExecuteTime": {
     "end_time": "2021-09-17T13:17:53.631435Z",
     "start_time": "2021-09-17T13:16:44.686Z"
    }
   },
   "outputs": [],
   "source": [
    "print(np.mean(differences_data[0]))\n",
    "print(np.mean(differences_data[1]))"
   ]
  },
  {
   "cell_type": "code",
   "execution_count": null,
   "metadata": {
    "ExecuteTime": {
     "end_time": "2021-09-17T13:17:53.637445Z",
     "start_time": "2021-09-17T13:16:44.689Z"
    }
   },
   "outputs": [],
   "source": [
    "seaborn.kdeplot(data=mean_data[0])\n",
    "seaborn.kdeplot(data=mean_data[1])\n",
    "seaborn.kdeplot(data=mean_data[2])\n",
    "plt.ylabel('Densitas')\n",
    "plt.xlabel('Mean')\n",
    "plt.suptitle('Diagram KDE Mean pada Eksperimen Graph-All')\n",
    "plt.savefig('../img/mean/stock-result/all_val_mean-displot.png', bbox_inches='tight')"
   ]
  },
  {
   "cell_type": "markdown",
   "metadata": {},
   "source": [
    "# Graph-Random"
   ]
  },
  {
   "cell_type": "code",
   "execution_count": null,
   "metadata": {
    "ExecuteTime": {
     "end_time": "2021-09-17T13:17:53.642431Z",
     "start_time": "2021-09-17T13:16:44.692Z"
    }
   },
   "outputs": [],
   "source": [
    "foldername = 'output/output_random_val'\n",
    "df_output_random_val, invalid = get_output(foldername)\n",
    "check_invalid(invalid)"
   ]
  },
  {
   "cell_type": "code",
   "execution_count": null,
   "metadata": {
    "ExecuteTime": {
     "end_time": "2021-09-17T13:17:53.649434Z",
     "start_time": "2021-09-17T13:16:44.695Z"
    }
   },
   "outputs": [],
   "source": [
    "mean_data, differences_data = get_differences(df_output_random_val)\n",
    "print(mean_data[0].mean(), mean_data[1].mean(), mean_data[2].mean())\n",
    "\n",
    "seaborn.boxplot(\n",
    "    data=mean_data\n",
    ").set(\n",
    "    xlabel='Jarak',\n",
    "    ylabel='Mean',\n",
    "    xticklabels=[2, 4, 6, 8]\n",
    ")\n",
    "plt.savefig('../img/mean/stock-result/random_val_mean-box.png', bbox_inches='tight')"
   ]
  },
  {
   "cell_type": "code",
   "execution_count": null,
   "metadata": {
    "ExecuteTime": {
     "end_time": "2021-09-17T13:17:53.655436Z",
     "start_time": "2021-09-17T13:16:44.697Z"
    }
   },
   "outputs": [],
   "source": [
    "seaborn.boxplot(data=differences_data)\n",
    "plt.xticks([0, 1], ['Jarak 4 Dengan Jarak 2', 'Jarak 6 Dengan Jarak 4'])\n",
    "plt.ylabel('Selisih Mean')\n",
    "plt.savefig('../img/mean/stock-result/random_val_differences-box.png')"
   ]
  },
  {
   "cell_type": "code",
   "execution_count": null,
   "metadata": {
    "ExecuteTime": {
     "end_time": "2021-09-17T13:17:53.660432Z",
     "start_time": "2021-09-17T13:16:44.700Z"
    }
   },
   "outputs": [],
   "source": [
    "seaborn.kdeplot(data=mean_data[0])\n",
    "seaborn.kdeplot(data=mean_data[1])\n",
    "seaborn.kdeplot(data=mean_data[2])\n",
    "plt.ylabel('Densitas')\n",
    "plt.xlabel('Mean')\n",
    "\n",
    "plt.suptitle('Diagram KDE Mean pada Eksperimen Graph-Random')\n",
    "plt.savefig('../img/mean/stock-result/random_val_mean-displot.png')"
   ]
  },
  {
   "cell_type": "code",
   "execution_count": null,
   "metadata": {},
   "outputs": [],
   "source": []
  }
 ],
 "metadata": {
  "kernelspec": {
   "display_name": "Python 3",
   "language": "python",
   "name": "python3"
  },
  "language_info": {
   "codemirror_mode": {
    "name": "ipython",
    "version": 3
   },
   "file_extension": ".py",
   "mimetype": "text/x-python",
   "name": "python",
   "nbconvert_exporter": "python",
   "pygments_lexer": "ipython3",
   "version": "3.8.11"
  },
  "toc": {
   "base_numbering": 1,
   "nav_menu": {},
   "number_sections": true,
   "sideBar": true,
   "skip_h1_title": false,
   "title_cell": "Table of Contents",
   "title_sidebar": "Contents",
   "toc_cell": false,
   "toc_position": {},
   "toc_section_display": true,
   "toc_window_display": false
  },
  "varInspector": {
   "cols": {
    "lenName": 16,
    "lenType": 16,
    "lenVar": 40
   },
   "kernels_config": {
    "python": {
     "delete_cmd_postfix": "",
     "delete_cmd_prefix": "del ",
     "library": "var_list.py",
     "varRefreshCmd": "print(var_dic_list())"
    },
    "r": {
     "delete_cmd_postfix": ") ",
     "delete_cmd_prefix": "rm(",
     "library": "var_list.r",
     "varRefreshCmd": "cat(var_dic_list()) "
    }
   },
   "types_to_exclude": [
    "module",
    "function",
    "builtin_function_or_method",
    "instance",
    "_Feature"
   ],
   "window_display": false
  }
 },
 "nbformat": 4,
 "nbformat_minor": 4
}
