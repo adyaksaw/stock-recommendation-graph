{
 "cells": [
  {
   "cell_type": "code",
   "execution_count": 2,
   "metadata": {
    "ExecuteTime": {
     "end_time": "2021-08-08T08:34:03.106273Z",
     "start_time": "2021-08-08T08:34:03.091277Z"
    }
   },
   "outputs": [],
   "source": [
    "import matplotlib.pyplot as plt\n",
    "import numpy as np\n",
    "import pandas as pd\n",
    "import csv\n",
    "from tqdm import tqdm\n",
    "from datetime import datetime\n",
    "import os\n",
    "import pickle"
   ]
  },
  {
   "cell_type": "code",
   "execution_count": 39,
   "metadata": {
    "ExecuteTime": {
     "end_time": "2021-08-08T09:42:30.515684Z",
     "start_time": "2021-08-08T09:42:30.466971Z"
    }
   },
   "outputs": [],
   "source": [
    "df = pd.read_csv('../data/relation.csv', sep='|', header=None)\n",
    "df = df.drop(labels=[3], axis=1)"
   ]
  },
  {
   "cell_type": "code",
   "execution_count": 45,
   "metadata": {
    "ExecuteTime": {
     "end_time": "2021-08-08T09:51:57.728519Z",
     "start_time": "2021-08-08T09:51:57.718804Z"
    }
   },
   "outputs": [],
   "source": [
    "df_nonjabatan = df[df[1].isin(['sekretaris perusahaan', 'direktur', 'komisaris', 'komite audit', 'pemegang saham'])]"
   ]
  },
  {
   "cell_type": "code",
   "execution_count": 41,
   "metadata": {
    "ExecuteTime": {
     "end_time": "2021-08-08T09:42:35.710737Z",
     "start_time": "2021-08-08T09:42:35.687128Z"
    }
   },
   "outputs": [
    {
     "data": {
      "text/plain": [
       "2\n",
       "1     7385\n",
       "2     1155\n",
       "3      189\n",
       "4       66\n",
       "5       21\n",
       "6       11\n",
       "7        5\n",
       "8        3\n",
       "13       2\n",
       "Name: 2, dtype: int64"
      ]
     },
     "execution_count": 41,
     "metadata": {},
     "output_type": "execute_result"
    }
   ],
   "source": [
    "temp = df_nonjabatan[2].value_counts()\n",
    "temp.groupby(temp).count()"
   ]
  },
  {
   "cell_type": "code",
   "execution_count": 42,
   "metadata": {
    "ExecuteTime": {
     "end_time": "2021-08-08T09:42:37.664874Z",
     "start_time": "2021-08-08T09:42:37.646488Z"
    }
   },
   "outputs": [
    {
     "data": {
      "text/plain": [
       "8837"
      ]
     },
     "execution_count": 42,
     "metadata": {},
     "output_type": "execute_result"
    }
   ],
   "source": [
    "len(temp)"
   ]
  },
  {
   "cell_type": "code",
   "execution_count": 51,
   "metadata": {
    "ExecuteTime": {
     "end_time": "2021-08-08T09:53:05.613462Z",
     "start_time": "2021-08-08T09:53:05.606462Z"
    }
   },
   "outputs": [],
   "source": [
    "df_nonjabatan = df_nonjabatan.drop(labels=[1], axis=1)"
   ]
  },
  {
   "cell_type": "code",
   "execution_count": 56,
   "metadata": {
    "ExecuteTime": {
     "end_time": "2021-08-08T09:54:35.480392Z",
     "start_time": "2021-08-08T09:54:35.459571Z"
    }
   },
   "outputs": [
    {
     "data": {
      "text/html": [
       "<div>\n",
       "<style scoped>\n",
       "    .dataframe tbody tr th:only-of-type {\n",
       "        vertical-align: middle;\n",
       "    }\n",
       "\n",
       "    .dataframe tbody tr th {\n",
       "        vertical-align: top;\n",
       "    }\n",
       "\n",
       "    .dataframe thead th {\n",
       "        text-align: right;\n",
       "    }\n",
       "</style>\n",
       "<table border=\"1\" class=\"dataframe\">\n",
       "  <thead>\n",
       "    <tr style=\"text-align: right;\">\n",
       "      <th></th>\n",
       "      <th>0</th>\n",
       "      <th>2</th>\n",
       "    </tr>\n",
       "  </thead>\n",
       "  <tbody>\n",
       "    <tr>\n",
       "      <th>4</th>\n",
       "      <td>AALI</td>\n",
       "      <td>mario casimirus surung gultom</td>\n",
       "    </tr>\n",
       "    <tr>\n",
       "      <th>5</th>\n",
       "      <td>AALI</td>\n",
       "      <td>santosa</td>\n",
       "    </tr>\n",
       "    <tr>\n",
       "      <th>7</th>\n",
       "      <td>AALI</td>\n",
       "      <td>muhammad hadi sugeng wahyudiono</td>\n",
       "    </tr>\n",
       "    <tr>\n",
       "      <th>8</th>\n",
       "      <td>AALI</td>\n",
       "      <td>rujito purnomo</td>\n",
       "    </tr>\n",
       "    <tr>\n",
       "      <th>9</th>\n",
       "      <td>AALI</td>\n",
       "      <td>nico tahir</td>\n",
       "    </tr>\n",
       "    <tr>\n",
       "      <th>...</th>\n",
       "      <td>...</td>\n",
       "      <td>...</td>\n",
       "    </tr>\n",
       "    <tr>\n",
       "      <th>13744</th>\n",
       "      <td>SQBB</td>\n",
       "      <td>adji baroto</td>\n",
       "    </tr>\n",
       "    <tr>\n",
       "      <th>13745</th>\n",
       "      <td>SQBB</td>\n",
       "      <td>lufti julian</td>\n",
       "    </tr>\n",
       "    <tr>\n",
       "      <th>13746</th>\n",
       "      <td>SQBB</td>\n",
       "      <td>sylvia veronica siregar</td>\n",
       "    </tr>\n",
       "    <tr>\n",
       "      <th>13747</th>\n",
       "      <td>SQBB</td>\n",
       "      <td>agus soewandono</td>\n",
       "    </tr>\n",
       "    <tr>\n",
       "      <th>13748</th>\n",
       "      <td>SQBB</td>\n",
       "      <td>taisho pharmaceutical co.,ltd.</td>\n",
       "    </tr>\n",
       "  </tbody>\n",
       "</table>\n",
       "<p>9832 rows × 2 columns</p>\n",
       "</div>"
      ],
      "text/plain": [
       "          0                                2\n",
       "4      AALI    mario casimirus surung gultom\n",
       "5      AALI                          santosa\n",
       "7      AALI  muhammad hadi sugeng wahyudiono\n",
       "8      AALI                   rujito purnomo\n",
       "9      AALI                       nico tahir\n",
       "...     ...                              ...\n",
       "13744  SQBB                      adji baroto\n",
       "13745  SQBB                     lufti julian\n",
       "13746  SQBB          sylvia veronica siregar\n",
       "13747  SQBB                  agus soewandono\n",
       "13748  SQBB   taisho pharmaceutical co.,ltd.\n",
       "\n",
       "[9832 rows x 2 columns]"
      ]
     },
     "execution_count": 56,
     "metadata": {},
     "output_type": "execute_result"
    }
   ],
   "source": [
    "df_nonjabatan_nondup = df_nonjabatan.drop_duplicates()\n",
    "df_nonjabatan_nondup"
   ]
  },
  {
   "cell_type": "code",
   "execution_count": 58,
   "metadata": {
    "ExecuteTime": {
     "end_time": "2021-08-08T09:55:02.454657Z",
     "start_time": "2021-08-08T09:55:02.432497Z"
    }
   },
   "outputs": [
    {
     "data": {
      "text/plain": [
       "2\n",
       "1     8116\n",
       "2      542\n",
       "3      128\n",
       "4       29\n",
       "5       15\n",
       "6        4\n",
       "7        1\n",
       "13       2\n",
       "Name: 2, dtype: int64"
      ]
     },
     "execution_count": 58,
     "metadata": {},
     "output_type": "execute_result"
    }
   ],
   "source": [
    "temp = df_nonjabatan_nondup[2].value_counts()\n",
    "temp.groupby(temp).count()"
   ]
  },
  {
   "cell_type": "code",
   "execution_count": null,
   "metadata": {},
   "outputs": [],
   "source": []
  }
 ],
 "metadata": {
  "kernelspec": {
   "display_name": "Python 3",
   "language": "python",
   "name": "python3"
  },
  "language_info": {
   "codemirror_mode": {
    "name": "ipython",
    "version": 3
   },
   "file_extension": ".py",
   "mimetype": "text/x-python",
   "name": "python",
   "nbconvert_exporter": "python",
   "pygments_lexer": "ipython3",
   "version": "3.8.11"
  },
  "toc": {
   "base_numbering": 1,
   "nav_menu": {},
   "number_sections": true,
   "sideBar": true,
   "skip_h1_title": false,
   "title_cell": "Table of Contents",
   "title_sidebar": "Contents",
   "toc_cell": false,
   "toc_position": {},
   "toc_section_display": true,
   "toc_window_display": false
  },
  "varInspector": {
   "cols": {
    "lenName": 16,
    "lenType": 16,
    "lenVar": 40
   },
   "kernels_config": {
    "python": {
     "delete_cmd_postfix": "",
     "delete_cmd_prefix": "del ",
     "library": "var_list.py",
     "varRefreshCmd": "print(var_dic_list())"
    },
    "r": {
     "delete_cmd_postfix": ") ",
     "delete_cmd_prefix": "rm(",
     "library": "var_list.r",
     "varRefreshCmd": "cat(var_dic_list()) "
    }
   },
   "types_to_exclude": [
    "module",
    "function",
    "builtin_function_or_method",
    "instance",
    "_Feature"
   ],
   "window_display": false
  }
 },
 "nbformat": 4,
 "nbformat_minor": 4
}
